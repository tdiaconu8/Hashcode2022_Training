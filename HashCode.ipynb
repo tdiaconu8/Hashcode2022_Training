{
  "nbformat": 4,
  "nbformat_minor": 0,
  "metadata": {
    "colab": {
      "name": "HashCode.ipynb",
      "provenance": [],
      "collapsed_sections": []
    },
    "kernelspec": {
      "name": "python3",
      "display_name": "Python 3"
    },
    "language_info": {
      "name": "python"
    }
  },
  "cells": [
    {
      "cell_type": "code",
      "source": [
        "filename = '/content/e_elaborate.in.txt'"
      ],
      "metadata": {
        "id": "CzZk6S88L9yC"
      },
      "execution_count": 231,
      "outputs": []
    },
    {
      "cell_type": "code",
      "source": [
        "temp = open(filename,'r').read().splitlines()"
      ],
      "metadata": {
        "id": "Mp8__EHKMSAR"
      },
      "execution_count": 232,
      "outputs": []
    },
    {
      "cell_type": "code",
      "source": [
        "temp[:10]"
      ],
      "metadata": {
        "colab": {
          "base_uri": "https://localhost:8080/"
        },
        "id": "WtstrVO4Xlti",
        "outputId": "7861f355-5d51-4db6-b0f6-0872d705ff15"
      },
      "execution_count": 233,
      "outputs": [
        {
          "output_type": "execute_result",
          "data": {
            "text/plain": [
              "['4986',\n",
              " '5 ingredient9922 ingredient3341 ingredient7670 ingredient7324 ingredient9885',\n",
              " '1 ingredient4654',\n",
              " '5 ingredient2920 ingredient1643 ingredient5580 ingredient4239 ingredient7087',\n",
              " '2 ingredient5259 ingredient9496',\n",
              " '4 ingredient2857 ingredient9130 ingredient4932 ingredient664',\n",
              " '2 ingredient2177 ingredient7332',\n",
              " '5 ingredient8806 ingredient5320 ingredient569 ingredient3724 ingredient656',\n",
              " '1 ingredient6321',\n",
              " '2 ingredient697 ingredient8002']"
            ]
          },
          "metadata": {},
          "execution_count": 233
        }
      ]
    },
    {
      "cell_type": "code",
      "source": [
        "nbClients = int(temp[0])"
      ],
      "metadata": {
        "id": "adNpGtQZMWmz"
      },
      "execution_count": 234,
      "outputs": []
    },
    {
      "cell_type": "code",
      "source": [
        "clients = []\n",
        "for i in range(1, nbClients+1):\n",
        "  nbLikes = int(temp[i].split(' ')[0])\n",
        "  nbDislikes = int(temp[i+1].split(' ')[0])\n",
        "\n",
        "  likes = temp[i].split(' ')[1:nbLikes+1]\n",
        "  dislikes = temp[i+1].split(' ')[1:nbLikes+1]\n",
        "  clients.append([likes, dislikes])"
      ],
      "metadata": {
        "id": "eYVfKxRyTiNj"
      },
      "execution_count": 235,
      "outputs": []
    },
    {
      "cell_type": "code",
      "source": [
        "clients[0]"
      ],
      "metadata": {
        "colab": {
          "base_uri": "https://localhost:8080/"
        },
        "id": "5MbwfjNpYEUh",
        "outputId": "bc534f3b-6780-45be-ceb7-52ded02838c8"
      },
      "execution_count": 236,
      "outputs": [
        {
          "output_type": "execute_result",
          "data": {
            "text/plain": [
              "[['ingredient9922',\n",
              "  'ingredient3341',\n",
              "  'ingredient7670',\n",
              "  'ingredient7324',\n",
              "  'ingredient9885'],\n",
              " ['ingredient4654']]"
            ]
          },
          "metadata": {},
          "execution_count": 236
        }
      ]
    },
    {
      "cell_type": "code",
      "source": [
        "len(clients)"
      ],
      "metadata": {
        "colab": {
          "base_uri": "https://localhost:8080/"
        },
        "id": "Xp6g2ME3YPll",
        "outputId": "e066bdb4-5a1a-4483-ac36-124be709d106"
      },
      "execution_count": 237,
      "outputs": [
        {
          "output_type": "execute_result",
          "data": {
            "text/plain": [
              "4986"
            ]
          },
          "metadata": {},
          "execution_count": 237
        }
      ]
    },
    {
      "cell_type": "code",
      "source": [
        "def getGraph(L):\n",
        "    g = {}\n",
        "    for i, c_cur in enumerate(L):\n",
        "        g[i] = []\n",
        "        # clients précédents (déjà créés)\n",
        "        for j, c_prev in enumerate(L[:i]):\n",
        "            # cur client dislikes in prev client likes ?\n",
        "            #ennemy = False # if cannot be client at the same time\n",
        "\n",
        "            if list(set(c_cur[0]) & set(c_prev[1])) or list(set(c_cur[1]) & set(c_prev[0])):\n",
        "                g[i].append(j)\n",
        "                g[j].append(i)\n",
        "\n",
        "    return g"
      ],
      "metadata": {
        "id": "27y-fLRxgMGu"
      },
      "execution_count": 238,
      "outputs": []
    },
    {
      "cell_type": "code",
      "source": [
        "graph = getGraph(clients)"
      ],
      "metadata": {
        "id": "csKm_S7gglxd"
      },
      "execution_count": 239,
      "outputs": []
    },
    {
      "cell_type": "code",
      "source": [
        "def maximum(graph):\n",
        "  m = 0\n",
        "  index = 0\n",
        "  for k, v in graph.items():\n",
        "    if m < len(v):\n",
        "      m = len(v)\n",
        "      index = k\n",
        "  return index, m"
      ],
      "metadata": {
        "id": "-LzGICTXbE0X"
      },
      "execution_count": 240,
      "outputs": []
    },
    {
      "cell_type": "code",
      "source": [
        "while(maximum(graph)[1]>1):\n",
        "  sommet = maximum(graph)[0]\n",
        "  for value in graph[sommet]:\n",
        "    graph[value].remove(sommet)\n",
        "  del graph[sommet]\n"
      ],
      "metadata": {
        "id": "pD2Ky9H2b1v5"
      },
      "execution_count": 241,
      "outputs": []
    },
    {
      "cell_type": "code",
      "source": [
        "clientsFinal = []\n",
        "index = []\n",
        "for k, v in graph.items():\n",
        "  if len(v) == 0:\n",
        "    clientsFinal.append(k)\n",
        "  else: \n",
        "    if graph[k][0] not in clientsFinal:\n",
        "      clientsFinal.append(k)"
      ],
      "metadata": {
        "id": "g3rpSvRNdmBK"
      },
      "execution_count": 242,
      "outputs": []
    },
    {
      "cell_type": "code",
      "source": [
        "ingredients = []\n",
        "for elem in [clients[i][0] for i in clientsFinal]:\n",
        "  ingredients += elem"
      ],
      "metadata": {
        "id": "ZagFO6IOY_oZ"
      },
      "execution_count": 243,
      "outputs": []
    },
    {
      "cell_type": "code",
      "source": [
        "ingredients= list(set(ingredients))"
      ],
      "metadata": {
        "id": "Kh72EvALh6s7"
      },
      "execution_count": 244,
      "outputs": []
    },
    {
      "cell_type": "code",
      "source": [
        "len(ingredients)"
      ],
      "metadata": {
        "colab": {
          "base_uri": "https://localhost:8080/"
        },
        "id": "Xtdjbj32hnur",
        "outputId": "952f050b-7ba6-4f35-c306-4b04556128ca"
      },
      "execution_count": 245,
      "outputs": [
        {
          "output_type": "execute_result",
          "data": {
            "text/plain": [
              "3355"
            ]
          },
          "metadata": {},
          "execution_count": 245
        }
      ]
    },
    {
      "cell_type": "code",
      "source": [
        "len(graph)"
      ],
      "metadata": {
        "colab": {
          "base_uri": "https://localhost:8080/"
        },
        "id": "K2MZuZFVhtqm",
        "outputId": "a7816928-d31b-4029-c5eb-bdca33090d83"
      },
      "execution_count": 246,
      "outputs": [
        {
          "output_type": "execute_result",
          "data": {
            "text/plain": [
              "2435"
            ]
          },
          "metadata": {},
          "execution_count": 246
        }
      ]
    },
    {
      "cell_type": "code",
      "source": [
        "with open('hashfileE.txt', 'w') as file: \n",
        "  file.write(str(len(ingredients)))\n",
        "  for ingredient in ingredients:\n",
        "    file.write(' ')\n",
        "    file.write(ingredient)"
      ],
      "metadata": {
        "id": "grhDogRVimaG"
      },
      "execution_count": 247,
      "outputs": []
    }
  ]
}